{
 "cells": [
  {
   "cell_type": "code",
   "execution_count": 1,
   "id": "613a5d1d",
   "metadata": {},
   "outputs": [],
   "source": [
    "import numpy as np\n",
    "import celmech as cm\n",
    "import rebound as rb\n",
    "import sympy as sp\n",
    "\n",
    "import sys\n",
    "sys.path.append(\"../code/\")"
   ]
  },
  {
   "cell_type": "code",
   "execution_count": 2,
   "id": "eab67748",
   "metadata": {},
   "outputs": [],
   "source": [
    "# Generate a simulation of equal mass, evenly spaced planets.\n",
    "def get_sim(m,Npl,pratio,exfrac):\n",
    "    alpha = pratio**(-2/3)\n",
    "    ex = np.min((1/alpha-1,1-alpha)) # orbit-crossing eccentricity\n",
    "    ecc = exfrac * ex\n",
    "    sim = rb.Simulation()\n",
    "    sim.add(m=1)\n",
    "    P = 1\n",
    "    for i in range(Npl):\n",
    "        sim.add(m=m,P=P,l=np.random.uniform(-np.pi,np.pi),e=ecc,pomega= np.random.uniform(-np.pi,np.pi))\n",
    "        P*= pratio\n",
    "    sim.move_to_com()\n",
    "    return sim"
   ]
  },
  {
   "cell_type": "code",
   "execution_count": 3,
   "id": "16908f76",
   "metadata": {},
   "outputs": [],
   "source": [
    "pratio = 4/3\n",
    "sim = get_sim(1e-5,5,pratio,0.2) # system of five planets\n",
    "\n",
    "pvars = cm.Poincare.from_Simulation(sim)\n",
    "pham = cm.PoincareHamiltonian(pvars)\n",
    "Hkep = pham.H.copy()\n",
    "\n",
    "pham_inits = pham.state.values\n",
    "\n",
    "jlo,jhi = np.floor(1 + 1/(pratio-1)),np.ceil(1 + 1/(pratio-1))\n",
    "jlo,jhi = int(jlo),int(jhi)"
   ]
  },
  {
   "cell_type": "markdown",
   "id": "f0e8a617",
   "metadata": {},
   "source": [
    "Add MMRs to celmech model"
   ]
  },
  {
   "cell_type": "code",
   "execution_count": 4,
   "id": "b73df67b",
   "metadata": {},
   "outputs": [],
   "source": [
    "Npl = pham.N - 1\n",
    "for i in range(1,Npl):\n",
    "    pham.add_MMR_terms(jlo,1,max_order = 2 , indexIn=i, indexOut=i+1,inclinations=False)\n",
    "    "
   ]
  },
  {
   "cell_type": "markdown",
   "id": "deb4b777",
   "metadata": {},
   "source": [
    "Express $\\lambda$ variables in terms of resonant combinations"
   ]
  },
  {
   "cell_type": "code",
   "execution_count": 5,
   "id": "c5cd93ee",
   "metadata": {},
   "outputs": [],
   "source": [
    "lmbda_vec = [pham.qp_vars[3*i] for i in range(Npl)]\n",
    "\n",
    "T = 2 * sp.Matrix([\n",
    "    [1-jlo,jlo,0,0,0],\n",
    "    [0,1-jlo,jlo,0,0],\n",
    "    [0,0,1-jlo,jlo,0],\n",
    "    [0,0,0,1-jlo,jlo],\n",
    "    [1,-1,0,0,0]\n",
    "])\n",
    "angvec = [*sp.symbols(\"phi(1:5)\")] + [sp.symbols(\"psi\")]\n",
    "angrule = dict(zip(lmbda_vec,T.inv() * sp.Matrix(angvec)))"
   ]
  },
  {
   "cell_type": "markdown",
   "id": "954ba80a",
   "metadata": {},
   "source": [
    "Get symbolic expressions for $A, \\mathbf{b}$ from celmech model"
   ]
  },
  {
   "cell_type": "code",
   "execution_count": 6,
   "id": "4ae2d38f",
   "metadata": {},
   "outputs": [
    {
     "data": {
      "text/latex": [
       "$\\displaystyle \\left[ \\eta_{1}, \\  \\eta_{2}, \\  \\eta_{3}, \\  \\eta_{4}, \\  \\eta_{5}, \\  \\kappa_{1}, \\  \\kappa_{2}, \\  \\kappa_{3}, \\  \\kappa_{4}, \\  \\kappa_{5}\\right]$"
      ],
      "text/plain": [
       "[η₁, η₂, η₃, η₄, η₅, κ₁, κ₂, κ₃, κ₄, κ₅]"
      ]
     },
     "execution_count": 6,
     "metadata": {},
     "output_type": "execute_result"
    }
   ],
   "source": [
    "xvec = [pham.qp_vars[3*i+1] for i in range(Npl)] + [pham.qp_vars[Npl * 3 + 3*i+1] for i in range(Npl)]\n",
    "xvec"
   ]
  },
  {
   "cell_type": "code",
   "execution_count": 7,
   "id": "26463994",
   "metadata": {},
   "outputs": [],
   "source": [
    "phi2=sp.symbols(\"phi2\",real=True)\n",
    "A_mtrx=sp.Matrix(2*Npl,2*Npl, lambda i,j:sp.diff(pham.N_H,xvec[i],xvec[j]))\n",
    "A_mtrx = A_mtrx.xreplace(angrule)\n",
    "\n",
    "zero_rule = dict(zip(xvec,np.zeros(2*Npl)))\n",
    "b_vec = [sp.diff(pham.N_H,xvec[i]).xreplace(zero_rule).xreplace(angrule) for i in range(2*Npl)]"
   ]
  },
  {
   "cell_type": "markdown",
   "id": "61837e73",
   "metadata": {},
   "source": [
    "Initialize resonant interaction objects"
   ]
  },
  {
   "cell_type": "code",
   "execution_count": 8,
   "id": "6de2609d",
   "metadata": {},
   "outputs": [],
   "source": [
    "from ResonantInteraction import EccentricityResonanceInteraction\n",
    "\n",
    "interactions = []\n",
    "for i in range(1,Npl):\n",
    "    interaction = EccentricityResonanceInteraction(pvars,i,i+1,jlo * 2)\n",
    "    interactions.append(interaction)"
   ]
  },
  {
   "cell_type": "markdown",
   "id": "e6fafefc",
   "metadata": {},
   "source": [
    "Choose some random resonant angles"
   ]
  },
  {
   "cell_type": "code",
   "execution_count": 9,
   "id": "d3f02144",
   "metadata": {},
   "outputs": [],
   "source": [
    "np.random.seed(123)\n",
    "phi_vals = np.random.uniform(-np.pi,np.pi,size=4)"
   ]
  },
  {
   "cell_type": "markdown",
   "id": "0278266a",
   "metadata": {},
   "source": [
    "Evaluate the full $A$ matrix and $\\mathbf{b}$ vector for the system from a sum over pair-wise interactions"
   ]
  },
  {
   "cell_type": "code",
   "execution_count": 10,
   "id": "4a0102ad",
   "metadata": {},
   "outputs": [],
   "source": [
    "A = np.zeros((2*Npl,2*Npl))\n",
    "b = np.zeros(2*Npl)\n",
    "for i,interaction in enumerate(interactions):\n",
    "    j=i+1\n",
    "    phi = phi_vals[i]\n",
    "    s,c = np.sin(phi/2),np.cos(phi/2)\n",
    "    s2 = 2 * s * c\n",
    "    c2 = c*c - s*s\n",
    "    Aij = interaction.A(c2,s2)\n",
    "    bij = interaction.b(c,s)\n",
    "    b[[i,j,i+Npl,j+Npl]] += bij\n",
    "    A[i:j+1,i:j+1] += Aij[:2,:2]\n",
    "    A[i+Npl:j+Npl+1,i:j+1] += Aij[2:,:2]\n",
    "    A[i:j+1,i+Npl:j+Npl+1] += Aij[:2,2:]\n",
    "    A[i+Npl:j+Npl+1,i+Npl:j+Npl+1] += Aij[2:,2:]\n",
    "    \n",
    "    "
   ]
  },
  {
   "cell_type": "markdown",
   "id": "b266ab01",
   "metadata": {},
   "source": [
    "$A$ is a block-tridiagonal of the form\n",
    "$$\n",
    "A = \\begin{pmatrix}\n",
    " A_1 & A_2 \\\\\n",
    " A_2 & - A_1\n",
    " \\end{pmatrix}\n",
    "$$\n",
    "where $A_1$ and $A_2$ are tri-diagonal:"
   ]
  },
  {
   "cell_type": "code",
   "execution_count": 16,
   "id": "b92f81cf",
   "metadata": {},
   "outputs": [
    {
     "name": "stdout",
     "output_type": "stream",
     "text": [
      "[[  3.7  -4.2   0.    0.    0.   10.7 -11.9   0.    0.    0. ]\n",
      " [ -4.2   6.5  -2.1   0.    0.  -11.9   5.    9.2   0.    0. ]\n",
      " [  0.   -2.1   1.4   1.    0.    0.    9.2 -16.5   7.    0. ]\n",
      " [  0.    0.    1.    3.4  -5.    0.    0.    7.   -6.3  -1.7]\n",
      " [  0.    0.    0.   -5.    5.6   0.    0.    0.   -1.7   1.9]\n",
      " [ 10.7 -11.9   0.    0.    0.   -3.7   4.2   0.    0.    0. ]\n",
      " [-11.9   5.    9.2   0.    0.    4.2  -6.5   2.1   0.    0. ]\n",
      " [  0.    9.2 -16.5   7.    0.    0.    2.1  -1.4  -1.    0. ]\n",
      " [  0.    0.    7.   -6.3  -1.7   0.    0.   -1.   -3.4   5. ]\n",
      " [  0.    0.    0.   -1.7   1.9   0.    0.    0.    5.   -5.6]]\n"
     ]
    }
   ],
   "source": [
    "print(np.round(1e4*A,1))"
   ]
  },
  {
   "cell_type": "markdown",
   "id": "ecf4a8cd",
   "metadata": {},
   "source": [
    "Get numerical value of symbolic $A$ matrix from sympy"
   ]
  },
  {
   "cell_type": "code",
   "execution_count": 12,
   "id": "21dbd191",
   "metadata": {},
   "outputs": [],
   "source": [
    "Nangle_rule = dict(zip(angvec,phi_vals))\n",
    "NA_mtrx = A_mtrx.xreplace(Nangle_rule)\n",
    "NA_mtrx = np.array(NA_mtrx,dtype = float)"
   ]
  },
  {
   "cell_type": "markdown",
   "id": "c8ec33c0",
   "metadata": {},
   "source": [
    "Matches matrix from resonant interactions?"
   ]
  },
  {
   "cell_type": "code",
   "execution_count": 13,
   "id": "42726304",
   "metadata": {},
   "outputs": [
    {
     "data": {
      "text/plain": [
       "True"
      ]
     },
     "execution_count": 13,
     "metadata": {},
     "output_type": "execute_result"
    }
   ],
   "source": [
    "np.alltrue(np.isclose(NA_mtrx,A))"
   ]
  },
  {
   "cell_type": "markdown",
   "id": "fe2009ef",
   "metadata": {},
   "source": [
    "Numerical value for $\\mathbf{b}$ vector from sympy"
   ]
  },
  {
   "cell_type": "code",
   "execution_count": 14,
   "id": "e303d0ec",
   "metadata": {},
   "outputs": [],
   "source": [
    "Nb_vec = sp.Matrix(b_vec).xreplace(Nangle_rule)\n",
    "Nb_vec = np.array(Nb_vec,dtype=float).reshape(-1)"
   ]
  },
  {
   "cell_type": "markdown",
   "id": "d101b271",
   "metadata": {},
   "source": [
    "Matches vector from resonant interactions?"
   ]
  },
  {
   "cell_type": "code",
   "execution_count": 15,
   "id": "dca77a44",
   "metadata": {},
   "outputs": [
    {
     "data": {
      "text/plain": [
       "True"
      ]
     },
     "execution_count": 15,
     "metadata": {},
     "output_type": "execute_result"
    }
   ],
   "source": [
    "np.alltrue(np.isclose(b,Nb_vec))"
   ]
  }
 ],
 "metadata": {
  "kernelspec": {
   "display_name": "Python 3 (ipykernel)",
   "language": "python",
   "name": "python3"
  },
  "language_info": {
   "codemirror_mode": {
    "name": "ipython",
    "version": 3
   },
   "file_extension": ".py",
   "mimetype": "text/x-python",
   "name": "python",
   "nbconvert_exporter": "python",
   "pygments_lexer": "ipython3",
   "version": "3.11.3"
  }
 },
 "nbformat": 4,
 "nbformat_minor": 5
}
