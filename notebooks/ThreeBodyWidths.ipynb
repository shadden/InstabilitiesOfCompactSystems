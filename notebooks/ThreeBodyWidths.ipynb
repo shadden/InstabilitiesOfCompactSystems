{
 "cells": [
  {
   "cell_type": "code",
   "execution_count": 1,
   "id": "02c99d1b",
   "metadata": {},
   "outputs": [],
   "source": [
    "import rebound as rb\n",
    "import celmech as cm\n",
    "import numpy as np\n",
    "import sympy as sp\n",
    "from matplotlib import pyplot as plt"
   ]
  },
  {
   "cell_type": "code",
   "execution_count": 2,
   "id": "8308e743",
   "metadata": {},
   "outputs": [],
   "source": [
    "sim = rb.Simulation()\n",
    "sim.add(m=1)\n",
    "Pratio = 1.123\n",
    "for i in range(3):\n",
    "    sim.add(m=3e-6,P = 1*Pratio**(i))"
   ]
  },
  {
   "cell_type": "code",
   "execution_count": 3,
   "id": "90143576",
   "metadata": {},
   "outputs": [],
   "source": [
    "from celmech.lie_transformations import FirstOrderGeneratingFunction"
   ]
  },
  {
   "cell_type": "code",
   "execution_count": 51,
   "id": "4d90df5c",
   "metadata": {},
   "outputs": [
    {
     "data": {
      "text/latex": [
       "$\\displaystyle 4$"
      ],
      "text/plain": [
       "4"
      ]
     },
     "execution_count": 51,
     "metadata": {},
     "output_type": "execute_result"
    }
   ],
   "source": [
    "int(np.ceil(1/(5/4-1)))"
   ]
  },
  {
   "cell_type": "code",
   "execution_count": 54,
   "id": "e90a2152",
   "metadata": {},
   "outputs": [],
   "source": [
    "jlo,jhi = int(1 + np.floor(1/(Pratio-1))) , int(1 + np.ceil(1/(Pratio-1)))\n",
    "\n",
    "pvars = cm.Poincare.from_Simulation(sim)\n",
    "pham = cm.PoincareHamiltonian(pvars)\n",
    "Hkep = pham.H.copy()\n",
    "chi = FirstOrderGeneratingFunction(pvars)\n",
    "for i in range(1,pham.N - 1):\n",
    "    pham.add_MMR_terms(jlo,1,indexIn=i,indexOut=i+1)\n",
    "    pham.add_MMR_terms(jlo+jhi,2,indexIn=i,indexOut=i+1)\n",
    "    #pham.add_MMR_terms(jhi,1,indexIn=i,indexOut=i+1)\n",
    "    chi.add_MMR_terms(jlo,1,indexIn=i,indexOut=i+1)\n",
    "    chi.add_MMR_terms(jlo+jhi,2,indexIn=i,indexOut=i+1)\n",
    "\n",
    "    #chi.add_MMR_terms(jhi,1,indexIn=i,indexOut=i+1)"
   ]
  },
  {
   "cell_type": "code",
   "execution_count": 55,
   "id": "7459ab21",
   "metadata": {},
   "outputs": [
    {
     "data": {
      "text/latex": [
       "$\\displaystyle - \\frac{C_{(19,-17,-1,-1,0,0)}^{(0,0,0,0),(0,0)}(\\alpha_{1,2}) G m_{1} m_{2} \\left(\\left(- \\frac{\\eta_{1} \\eta_{2}}{\\sqrt{\\Lambda_{1,0}} \\sqrt{\\Lambda_{2,0}}} + \\frac{\\kappa_{1} \\kappa_{2}}{\\sqrt{\\Lambda_{1,0}} \\sqrt{\\Lambda_{2,0}}}\\right) \\cos{\\left(17 \\lambda_{1} - 19 \\lambda_{2} \\right)} + \\left(\\frac{\\eta_{1} \\kappa_{2}}{\\sqrt{\\Lambda_{1,0}} \\sqrt{\\Lambda_{2,0}}} + \\frac{\\eta_{2} \\kappa_{1}}{\\sqrt{\\Lambda_{1,0}} \\sqrt{\\Lambda_{2,0}}}\\right) \\sin{\\left(17 \\lambda_{1} - 19 \\lambda_{2} \\right)}\\right)}{a_{2,0}}$"
      ],
      "text/plain": [
       "                                                                 ⎛⎛                 η₁⋅η₂                                 κ₁⋅κ₂           \n",
       "-C_{(19,-17,-1,-1,0,0)}_{1,2})__{(0,0,0,0),(0,0)}(\\alpha⋅G⋅m₁⋅m₂⋅⎜⎜- ─────────────────────────────────── + ───────────────────────────────\n",
       "                                                                 ⎜⎜    _______________   _______________     _______________   ___________\n",
       "                                                                 ⎝⎝  ╲╱ \\Lambda_{1,0} ⋅╲╱ \\Lambda_{2,0}    ╲╱ \\Lambda_{1,0} ⋅╲╱ \\Lambda_{2\n",
       "──────────────────────────────────────────────────────────────────────────────────────────────────────────────────────────────────────────\n",
       "                                                                                                                               a_{2,0}    \n",
       "\n",
       "    ⎞                      ⎛               η₁⋅κ₂                                 η₂⋅κ₁               ⎞                   ⎞ \n",
       "────⎟⋅cos(17⋅λ₁ - 19⋅λ₂) + ⎜─────────────────────────────────── + ───────────────────────────────────⎟⋅sin(17⋅λ₁ - 19⋅λ₂)⎟ \n",
       "____⎟                      ⎜  _______________   _______________     _______________   _______________⎟                   ⎟ \n",
       ",0} ⎠                      ⎝╲╱ \\Lambda_{1,0} ⋅╲╱ \\Lambda_{2,0}    ╲╱ \\Lambda_{1,0} ⋅╲╱ \\Lambda_{2,0} ⎠                   ⎠ \n",
       "───────────────────────────────────────────────────────────────────────────────────────────────────────────────────────────\n",
       "                                                                                                                           "
      ]
     },
     "execution_count": 55,
     "metadata": {},
     "output_type": "execute_result"
    }
   ],
   "source": [
    "pham.H.args[3]"
   ]
  },
  {
   "cell_type": "code",
   "execution_count": 56,
   "id": "7e849aa6",
   "metadata": {},
   "outputs": [
    {
     "data": {
      "text/latex": [
       "$\\displaystyle - \\frac{C_{(19,-17,-1,-1,0,0)}^{(0,0,0,0),(0,0)}(\\alpha_{1,2}) G m_{1} m_{2} \\left(- \\left(- \\frac{\\eta_{1} \\eta_{2}}{\\sqrt{\\Lambda_{1,0}} \\sqrt{\\Lambda_{2,0}}} + \\frac{\\kappa_{1} \\kappa_{2}}{\\sqrt{\\Lambda_{1,0}} \\sqrt{\\Lambda_{2,0}}}\\right) \\sin{\\left(17 \\lambda_{1} - 19 \\lambda_{2} \\right)} + \\left(\\frac{\\eta_{1} \\kappa_{2}}{\\sqrt{\\Lambda_{1,0}} \\sqrt{\\Lambda_{2,0}}} + \\frac{\\eta_{2} \\kappa_{1}}{\\sqrt{\\Lambda_{1,0}} \\sqrt{\\Lambda_{2,0}}}\\right) \\cos{\\left(17 \\lambda_{1} - 19 \\lambda_{2} \\right)}\\right)}{a_{2,0} \\cdot \\left(\\frac{19 G^{2} M_{2}^{2} \\mu_{2}^{3}}{\\Lambda_{2}^{3}} - \\frac{17 G^{2} M_{1}^{2} \\mu_{1}^{3}}{\\Lambda_{1}^{3}}\\right)}$"
      ],
      "text/plain": [
       "                                                                 ⎛  ⎛                 η₁⋅η₂                                 κ₁⋅κ₂         \n",
       "-C_{(19,-17,-1,-1,0,0)}_{1,2})__{(0,0,0,0),(0,0)}(\\alpha⋅G⋅m₁⋅m₂⋅⎜- ⎜- ─────────────────────────────────── + ─────────────────────────────\n",
       "                                                                 ⎜  ⎜    _______________   _______________     _______________   _________\n",
       "                                                                 ⎝  ⎝  ╲╱ \\Lambda_{1,0} ⋅╲╱ \\Lambda_{2,0}    ╲╱ \\Lambda_{1,0} ⋅╲╱ \\Lambda_\n",
       "──────────────────────────────────────────────────────────────────────────────────────────────────────────────────────────────────────────\n",
       "                                                                                                                        ⎛    2   2   3    \n",
       "                                                                                                                        ⎜19⋅G ⋅M₂ ⋅μ₂    1\n",
       "                                                                                                                a_{2,0}⋅⎜───────────── - ─\n",
       "                                                                                                                        ⎜       3         \n",
       "                                                                                                                        ⎝     Λ₂          \n",
       "\n",
       "      ⎞                      ⎛               η₁⋅κ₂                                 η₂⋅κ₁               ⎞                   ⎞ \n",
       "──────⎟⋅sin(17⋅λ₁ - 19⋅λ₂) + ⎜─────────────────────────────────── + ───────────────────────────────────⎟⋅cos(17⋅λ₁ - 19⋅λ₂)⎟ \n",
       "______⎟                      ⎜  _______________   _______________     _______________   _______________⎟                   ⎟ \n",
       "{2,0} ⎠                      ⎝╲╱ \\Lambda_{1,0} ⋅╲╱ \\Lambda_{2,0}    ╲╱ \\Lambda_{1,0} ⋅╲╱ \\Lambda_{2,0} ⎠                   ⎠ \n",
       "─────────────────────────────────────────────────────────────────────────────────────────────────────────────────────────────\n",
       "   2   2   3⎞                                                                                                                \n",
       "7⋅G ⋅M₁ ⋅μ₁ ⎟                                                                                                                \n",
       "────────────⎟                                                                                                                \n",
       "      3     ⎟                                                                                                                \n",
       "    Λ₁      ⎠                                                                                                                "
      ]
     },
     "execution_count": 56,
     "metadata": {},
     "output_type": "execute_result"
    }
   ],
   "source": [
    "chi.H.args[0]"
   ]
  },
  {
   "cell_type": "markdown",
   "id": "9bd31588",
   "metadata": {},
   "source": [
    "# a three-body MMR\n",
    "\n",
    "Let \n",
    "$$\n",
    "\\begin{eqnarray}\n",
    "h^a &=& C_a\\cos(k^a_1\\lambda_j + k^a_2\\lambda_i) + S_a\\sin(k^a_1\\lambda_j + k^a_2\\lambda_i)\\\\\n",
    "h^b &=& C_b\\cos(k^b_1\\lambda_k + k^b_2\\lambda_j) + S_b\\sin(k^b_1\\lambda_k + k^b_2\\lambda_j)\n",
    "\\end{eqnarray}\n",
    "$$\n",
    "where $C_a$ and $S_a$ are polynomial functions of \n",
    "$(\\eta_i,\\eta_j,\\kappa_i,\\kappa_j,\\rho_i,\\rho_j,\\sigma_i,\\sigma_j,\\delta\\Lambda_i,\\delta\\Lambda_j)$\n",
    "\n",
    "Then define\n",
    "$$\n",
    "\\chi^a = \\frac{C_a}{k^a_1n_j + k^a_2n_i}\\sin(k^a_1\\lambda_j + k^a_2\\lambda_i)+\\frac{S_a}{k^a_1n_j + k^a_2n_i}\\cos(k^a_1\\lambda_j + k^a_2\\lambda_i)\n",
    "$$\n",
    "and similar for $\\chi^b$.\n",
    "\n",
    "Then\n",
    "$$\n",
    "\\begin{eqnarray}\n",
    "[h^a,\\chi^b] &=& \n",
    "[ C_a\\cos(k^a_1\\lambda_j + k^a_2\\lambda_i) + S_a\\sin(k^a_1\\lambda_j + k^a_2\\lambda_i),\n",
    "\\frac{C_b}{k^b_1n_j + k^b_2n_k}\\sin(k^b_1\\lambda_k + k^b_2\\lambda_j)+\\frac{S_b}{k^b_1n_j + k^b_2n_k}\\cos(k^b_1\\lambda_k + k^b_2\\lambda_j)\n",
    "]\\\\\n",
    "&=&\n",
    "[ C_a\\cos(k^a_1\\lambda_j + k^a_2\\lambda_i),\n",
    "\\frac{C_b}{k^b_1n_j + k^b_2n_k}\\sin(k^b_1\\lambda_k + k^b_2\\lambda_j)]\n",
    "\\\\&&+\n",
    "[ S_a\\sin(k^a_1\\lambda_j + k^a_2\\lambda_i),\n",
    "\\frac{C_b}{k^b_1n_j + k^b_2n_k}\\sin(k^b_1\\lambda_k + k^b_2\\lambda_j)\n",
    "]\n",
    "\\\\&&+\n",
    "[ C_a\\cos(k^a_1\\lambda_j + k^a_2\\lambda_i),\n",
    "\\frac{S_b}{k^b_1n_j + k^b_2n_k}\\cos(k^b_1\\lambda_k + k^b_2\\lambda_j)\n",
    "]\n",
    "\\\\&&+\n",
    "[ S_a\\sin(k^a_1\\lambda_j + k^a_2\\lambda_i),\n",
    "\\frac{S_b}{k^b_1n_j + k^b_2n_k}\\cos(k^b_1\\lambda_k + k^b_2\\lambda_j)\n",
    "]\n",
    "\\end{eqnarray}\n",
    "$$\n",
    "\n",
    "Define\n",
    "$$\n",
    "\\mathsf{d}_a := k^a_1 \\frac{\\partial}{\\partial\\Lambda_j} + k^a_2 \\frac{\\partial}{\\partial\\Lambda_i}\\\\\n",
    "\\mathsf{d}_b := k^b_1 \\frac{\\partial}{\\partial\\Lambda_k} + k^b_2 \\frac{\\partial}{\\partial\\Lambda_j}\\\\\n",
    "$$\n",
    "so that $[f,\\sin(k^b_1\\lambda_k + k^b_2\\lambda_j)] = -(\\mathsf{d}_bf)\\cos(k^b_1\\lambda_k + k^b_2\\lambda_j)$\n",
    "and $[f,\\cos(k^b_1\\lambda_k + k^b_2\\lambda_j)] = (\\mathsf{d}_bf)\\sin(k^b_1\\lambda_k + k^b_2\\lambda_j)$.\n",
    "\n",
    "Then\n",
    "\n",
    "$$\n",
    "\\begin{eqnarray}\n",
    "[ \n",
    "C_a\\cos(\\theta_a),\n",
    "\\frac{C_b}{\\omega_b}\\sin(\\theta_b)\n",
    "]&=&\n",
    "C_a\\sin(\\theta_b)[\\cos(\\theta_a), \\frac{C_b}{\\omega_b}]\n",
    "+\n",
    "\\cos(\\theta_a)\\sin(\\theta_b)[C_a, \\frac{C_b}{\\omega_b}]\n",
    "+\n",
    "\\frac{C_b}{\\omega_b}\\cos(\\theta_a)[C_a,\\sin(\\theta_b)]\n",
    "% \\\\&&\n",
    "% +\n",
    "% \\\\\n",
    "% &=&\n",
    "% -\\frac{C_b(\\mathsf{d}_bC_a)}{k^b_1n_j + k^b_2n_k}\\cos\\theta_a\\cos\\theta_b\n",
    "\\end{eqnarray}\n",
    "$$\n"
   ]
  },
  {
   "cell_type": "code",
   "execution_count": 57,
   "id": "14404bbd",
   "metadata": {},
   "outputs": [],
   "source": [
    "from celmech.miscellaneous import poisson_bracket"
   ]
  },
  {
   "cell_type": "code",
   "execution_count": 63,
   "id": "a4bcc98b",
   "metadata": {},
   "outputs": [],
   "source": [
    "f = sp.Function(\"f\")\n",
    "k = sp.symbols(\"k(1:4)\",real=True)"
   ]
  },
  {
   "cell_type": "code",
   "execution_count": 66,
   "id": "af73bccb",
   "metadata": {},
   "outputs": [
    {
     "data": {
      "text/latex": [
       "$\\displaystyle k_{1} \\sin{\\left(k_{1} \\lambda_{2} + k_{2} \\lambda_{1} \\right)} \\frac{\\partial}{\\partial \\Lambda_{2}} f{\\left(\\Lambda_{1},\\Lambda_{2},\\Lambda_{3} \\right)} + k_{2} \\sin{\\left(k_{1} \\lambda_{2} + k_{2} \\lambda_{1} \\right)} \\frac{\\partial}{\\partial \\Lambda_{1}} f{\\left(\\Lambda_{1},\\Lambda_{2},\\Lambda_{3} \\right)}$"
      ],
      "text/plain": [
       "                       ∂                                          ∂                \n",
       "k₁⋅sin(k₁⋅λ₂ + k₂⋅λ₁)⋅───(f(Λ₁, Λ₂, Λ₃)) + k₂⋅sin(k₁⋅λ₂ + k₂⋅λ₁)⋅───(f(Λ₁, Λ₂, Λ₃))\n",
       "                      ∂Λ₂                                        ∂Λ₁               "
      ]
     },
     "execution_count": 66,
     "metadata": {},
     "output_type": "execute_result"
    }
   ],
   "source": [
    "ls = pham.qp_vars[:pham.N_dof:3]\n",
    "Ls = pham.qp_vars[pham.N_dof::3]\n",
    "\n",
    "poisson_bracket(f(*Ls),sp.cos(k[0]*ls[1] +k[1]*ls[0]),ls+Ls,[])"
   ]
  },
  {
   "cell_type": "code",
   "execution_count": null,
   "id": "69584d33",
   "metadata": {},
   "outputs": [],
   "source": []
  }
 ],
 "metadata": {
  "kernelspec": {
   "display_name": "Python 3 (ipykernel)",
   "language": "python",
   "name": "python3"
  },
  "language_info": {
   "codemirror_mode": {
    "name": "ipython",
    "version": 3
   },
   "file_extension": ".py",
   "mimetype": "text/x-python",
   "name": "python",
   "nbconvert_exporter": "python",
   "pygments_lexer": "ipython3",
   "version": "3.11.3"
  }
 },
 "nbformat": 4,
 "nbformat_minor": 5
}
